{
 "cells": [
  {
   "cell_type": "code",
   "execution_count": 11,
   "metadata": {},
   "outputs": [],
   "source": [
    "import numpy as np\n",
    "import pandas as pd\n",
    "import altair as alt\n",
    "from main import Model\n",
    "\n",
    "# Force Altair to share axis range https://github.com/altair-viz/altair/issues/1298"
   ]
  },
  {
   "cell_type": "code",
   "execution_count": 12,
   "metadata": {
    "collapsed": false,
    "jupyter": {
     "outputs_hidden": false
    }
   },
   "outputs": [],
   "source": [
    "# Scientist run\n",
    "time_steps    = 50\n",
    "theta_start   = 0.0\n",
    "theta_end     = 1.0\n",
    "theta_spacing = 0.1\n",
    "theta_list    = np.arange(theta_start,theta_end+0.00001,theta_spacing)\n",
    "theta_list    = [round(x,2) for x in theta_list]\n",
    "\n",
    "scientists_datasets      = []\n",
    "scientists_agg_df        = []\n",
    "for theta in (theta_list):\n",
    "    m = Model(time_steps,theta,'scientists') #model_name should be 'scientists', 'lobbyists'\n",
    "    m.run()\n",
    "    scientists_datasets.append(m.data)\n",
    "    scientists_agg_df.append(m.agg_df)\n",
    "scientists_merged_agent_data = pd.concat(scientists_datasets)\n",
    "scientists_merged_agg_data   = pd.concat(scientists_agg_df)"
   ]
  },
  {
   "cell_type": "code",
   "execution_count": 13,
   "metadata": {},
   "outputs": [],
   "source": [
    "# Lobbyists run\n",
    "# time_steps    = 100\n",
    "# theta_start   = 0.0\n",
    "# theta_end     = 1.0\n",
    "# theta_spacing = 0.1\n",
    "# theta_list    = np.arange(theta_start,theta_end+0.00001,theta_spacing)\n",
    "# theta_list    = [round(x,2) for x in theta_list]\n",
    "\n",
    "lobbyists_datasets      = []\n",
    "lobbyists_agg_df        = []\n",
    "for theta in (theta_list):\n",
    "    m2 = Model(time_steps,theta,'lobbyists') #model_name should be 'scientists', 'lobbyists'\n",
    "    m2.run()\n",
    "    lobbyists_datasets.append(m2.data)\n",
    "    lobbyists_agg_df.append(m2.agg_df)\n",
    "lobbyists_merged_agent_data = pd.concat(lobbyists_datasets)\n",
    "lobbyists_merged_agg_data   = pd.concat(lobbyists_agg_df)"
   ]
  },
  {
   "cell_type": "code",
   "execution_count": 14,
   "metadata": {
    "collapsed": false,
    "jupyter": {
     "outputs_hidden": false
    }
   },
   "outputs": [
    {
     "data": {
      "application/vnd.vegalite.v3+json": {
       "$schema": "https://vega.github.io/schema/vega-lite/v3.2.1.json",
       "config": {
        "mark": {
         "tooltip": null
        },
        "view": {
         "height": 300,
         "width": 400
        }
       },
       "data": {
        "format": {
         "type": "json"
        },
        "url": "altair-data-de73acd81f5f72c4e7bccccf0dc5459e.json"
       },
       "encoding": {
        "color": {
         "field": "Value",
         "type": "quantitative"
        },
        "x": {
         "field": "Time",
         "type": "ordinal"
        },
        "y": {
         "field": "Agent",
         "type": "ordinal"
        }
       },
       "height": 100,
       "mark": "rect",
       "selection": {
        "Theta_Run": {
         "bind": {
          "input": "range",
          "max": 1,
          "min": 0,
          "step": 0.1
         },
         "fields": [
          "Theta_Run"
         ],
         "init": {
          "Theta_Run": 0
         },
         "type": "single"
        }
       },
       "transform": [
        {
         "filter": {
          "selection": "Theta_Run"
         }
        }
       ],
       "width": 500
      },
      "image/png": "[encoded data removed]",
      "text/plain": [
       "<VegaLite 3 object>\n",
       "\n",
       "If you see this message, it means the renderer has not been properly enabled\n",
       "for the frontend that you are using. For more information, see\n",
       "https://altair-viz.github.io/user_guide/troubleshooting.html\n"
      ]
     },
     "execution_count": 14,
     "metadata": {},
     "output_type": "execute_result"
    }
   ],
   "source": [
    "alt.data_transformers.enable('json')\n",
    "\n",
    "slider = alt.binding_range(min=theta_start, max=theta_end, step=theta_spacing)\n",
    "select_theta = alt.selection_single(name=\"Theta_Run\", fields=['Theta_Run'],\n",
    "                                   bind=slider, init={'Theta_Run': theta_start})\n",
    "\n",
    "\n",
    "ts = alt.Chart(scientists_merged_agent_data).mark_rect().encode(\n",
    "    #alt.X('Time', type='ordinal', title=''),\n",
    "    x='Time:O',\n",
    "    y='Agent:O',\n",
    "#     color=alt.Color('Value:Q',legend=alt.Legend(values=[15]))  #values=[0.1,10.]))\n",
    "    color=alt.Color('Value:Q'),\n",
    ").properties(\n",
    "    width=500,\n",
    "    height=100,\n",
    ").add_selection(\n",
    "    select_theta\n",
    ").transform_filter(\n",
    "    select_theta)\n",
    "\n",
    "ts"
   ]
  },
  {
   "cell_type": "code",
   "execution_count": 15,
   "metadata": {
    "collapsed": false,
    "jupyter": {
     "outputs_hidden": false
    }
   },
   "outputs": [
    {
     "data": {
      "application/vnd.vegalite.v3+json": {
       "$schema": "https://vega.github.io/schema/vega-lite/v3.2.1.json",
       "config": {
        "mark": {
         "tooltip": null
        },
        "view": {
         "height": 300,
         "width": 400
        }
       },
       "data": {
        "format": {
         "type": "json"
        },
        "url": "altair-data-5aad071ac67c5f6eb85f676254a5a650.json"
       },
       "encoding": {
        "color": {
         "field": "Value",
         "type": "quantitative"
        },
        "x": {
         "field": "Time",
         "type": "ordinal"
        },
        "y": {
         "field": "Agent",
         "type": "ordinal"
        }
       },
       "height": 100,
       "mark": "rect",
       "selection": {
        "Theta_Run": {
         "bind": {
          "input": "range",
          "max": 1,
          "min": 0,
          "step": 0.1
         },
         "fields": [
          "Theta_Run"
         ],
         "init": {
          "Theta_Run": 0
         },
         "type": "single"
        }
       },
       "transform": [
        {
         "filter": {
          "selection": "Theta_Run"
         }
        }
       ],
       "width": 500
      },
      "image/png": "[encoded data removed]",
      "text/plain": [
       "<VegaLite 3 object>\n",
       "\n",
       "If you see this message, it means the renderer has not been properly enabled\n",
       "for the frontend that you are using. For more information, see\n",
       "https://altair-viz.github.io/user_guide/troubleshooting.html\n"
      ]
     },
     "execution_count": 15,
     "metadata": {},
     "output_type": "execute_result"
    }
   ],
   "source": [
    "tl = alt.Chart(lobbyists_merged_agent_data).mark_rect().encode(\n",
    "    #alt.X('Time', type='ordinal', title=''),\n",
    "    x='Time:O',\n",
    "    y='Agent:O',\n",
    "#     color=alt.Color('Value:Q',legend=alt.Legend(values=[15]))  #values=[0.1,10.]))\n",
    "    color=alt.Color('Value:Q'),\n",
    ").properties(\n",
    "    width=500,\n",
    "    height=100,\n",
    ").add_selection(\n",
    "    select_theta\n",
    ").transform_filter(\n",
    "    select_theta)\n",
    "\n",
    "tl"
   ]
  },
  {
   "cell_type": "code",
   "execution_count": 16,
   "metadata": {
    "collapsed": false,
    "jupyter": {
     "outputs_hidden": false
    }
   },
   "outputs": [
    {
     "data": {
      "application/vnd.vegalite.v3+json": {
       "$schema": "https://vega.github.io/schema/vega-lite/v3.2.1.json",
       "config": {
        "mark": {
         "tooltip": null
        },
        "view": {
         "height": 300,
         "width": 400
        }
       },
       "vconcat": [
        {
         "data": {
          "format": {
           "type": "json"
          },
          "url": "altair-data-de73acd81f5f72c4e7bccccf0dc5459e.json"
         },
         "encoding": {
          "color": {
           "field": "Value",
           "type": "quantitative"
          },
          "x": {
           "field": "Time",
           "type": "ordinal"
          },
          "y": {
           "field": "Agent",
           "type": "ordinal"
          }
         },
         "height": 100,
         "mark": "rect",
         "selection": {
          "Theta_Run": {
           "bind": {
            "input": "range",
            "max": 1,
            "min": 0,
            "step": 0.1
           },
           "fields": [
            "Theta_Run"
           ],
           "init": {
            "Theta_Run": 0
           },
           "type": "single"
          }
         },
         "transform": [
          {
           "filter": {
            "selection": "Theta_Run"
           }
          }
         ],
         "width": 500
        },
        {
         "data": {
          "format": {
           "type": "json"
          },
          "url": "altair-data-5aad071ac67c5f6eb85f676254a5a650.json"
         },
         "encoding": {
          "color": {
           "field": "Value",
           "type": "quantitative"
          },
          "x": {
           "field": "Time",
           "type": "ordinal"
          },
          "y": {
           "field": "Agent",
           "type": "ordinal"
          }
         },
         "height": 100,
         "mark": "rect",
         "selection": {
          "Theta_Run": {
           "bind": {
            "input": "range",
            "max": 1,
            "min": 0,
            "step": 0.1
           },
           "fields": [
            "Theta_Run"
           ],
           "init": {
            "Theta_Run": 0
           },
           "type": "single"
          }
         },
         "transform": [
          {
           "filter": {
            "selection": "Theta_Run"
           }
          }
         ],
         "width": 500
        }
       ]
      },
      "image/png": "[encoded data removed]",
      "text/plain": [
       "<VegaLite 3 object>\n",
       "\n",
       "If you see this message, it means the renderer has not been properly enabled\n",
       "for the frontend that you are using. For more information, see\n",
       "https://altair-viz.github.io/user_guide/troubleshooting.html\n"
      ]
     },
     "execution_count": 16,
     "metadata": {},
     "output_type": "execute_result"
    }
   ],
   "source": [
    "alt.vconcat(ts, tl)"
   ]
  },
  {
   "cell_type": "code",
   "execution_count": 17,
   "metadata": {},
   "outputs": [],
   "source": [
    "cwidth  = 300\n",
    "cheight = 100\n",
    "\n",
    "sv = alt.Chart(scientists_merged_agg_data).mark_point().encode(\n",
    "    #alt.X('Time', type='ordinal', title=''),\n",
    "    x='Time:O',\n",
    "    y='Total_Value:Q',\n",
    "#     color=alt.Color('Value:Q',legend=alt.Legend(values=[15]))  #values=[0.1,10.]))\n",
    "#    color=alt.Color('Value:Q'),\n",
    ").properties(\n",
    "    width=cwidth,\n",
    "    height=cheight,\n",
    "    title=\"Scientists Run: Value\"\n",
    ").add_selection(\n",
    "    select_theta\n",
    ").transform_filter(\n",
    "    select_theta)\n",
    "\n",
    "sp = alt.Chart(scientists_merged_agg_data).mark_point().encode(\n",
    "    #alt.X('Time', type='ordinal', title=''),\n",
    "    x='Time:O',\n",
    "    y='Total_Prob:Q',\n",
    "#     color=alt.Color('Value:Q',legend=alt.Legend(values=[15]))  #values=[0.1,10.]))\n",
    "#    color=alt.Color('Value:Q'),\n",
    ").properties(\n",
    "    width=cwidth,\n",
    "    height=cheight,\n",
    "    title=\"Scientists Run: Probability\"\n",
    ").add_selection(\n",
    "    select_theta\n",
    ").transform_filter(\n",
    "    select_theta)\n",
    "\n",
    "sev = alt.Chart(scientists_merged_agg_data).mark_point().encode(\n",
    "    #alt.X('Time', type='ordinal', title=''),\n",
    "    x='Time:O',\n",
    "    y='Total_Expected_Value:Q',\n",
    "#     color=alt.Color('Value:Q',legend=alt.Legend(values=[15]))  #values=[0.1,10.]))\n",
    "#    color=alt.Color('Value:Q'),\n",
    ").properties(\n",
    "    width=cwidth,\n",
    "    height=cheight,\n",
    "    title=\"Scientists Run: Expected Value\"\n",
    ").add_selection(\n",
    "    select_theta\n",
    ").transform_filter(\n",
    "    select_theta)\n",
    "\n",
    "\n",
    "ss = alt.vconcat(\n",
    "    sv,sp,sev,\n",
    ").resolve_scale(\n",
    "    y='shared'\n",
    ")\n",
    "# ss = alt.vconcat(v, p, ev)"
   ]
  },
  {
   "cell_type": "code",
   "execution_count": 18,
   "metadata": {
    "collapsed": false,
    "jupyter": {
     "outputs_hidden": false
    }
   },
   "outputs": [
    {
     "data": {
      "application/vnd.vegalite.v3+json": {
       "$schema": "https://vega.github.io/schema/vega-lite/v3.2.1.json",
       "config": {
        "mark": {
         "tooltip": null
        },
        "view": {
         "height": 300,
         "width": 400
        }
       },
       "hconcat": [
        {
         "data": {
          "format": {
           "type": "json"
          },
          "url": "altair-data-bc0a412d157426e2b3c2815ce85cabb6.json"
         },
         "encoding": {
          "x": {
           "field": "Time",
           "type": "ordinal"
          },
          "y": {
           "field": "Total_Value",
           "type": "quantitative"
          }
         },
         "height": 100,
         "mark": "point",
         "selection": {
          "Theta_Run": {
           "bind": {
            "input": "range",
            "max": 1,
            "min": 0,
            "step": 0.1
           },
           "fields": [
            "Theta_Run"
           ],
           "init": {
            "Theta_Run": 0
           },
           "type": "single"
          }
         },
         "title": "Scientists Run: Value",
         "transform": [
          {
           "filter": {
            "selection": "Theta_Run"
           }
          }
         ],
         "width": 300
        },
        {
         "data": {
          "format": {
           "type": "json"
          },
          "url": "altair-data-bac8912ec947d34366834eb8f6611967.json"
         },
         "encoding": {
          "x": {
           "field": "Time",
           "type": "ordinal"
          },
          "y": {
           "field": "Total_Value",
           "type": "quantitative"
          }
         },
         "height": 100,
         "mark": "point",
         "selection": {
          "Theta_Run": {
           "bind": {
            "input": "range",
            "max": 1,
            "min": 0,
            "step": 0.1
           },
           "fields": [
            "Theta_Run"
           ],
           "init": {
            "Theta_Run": 0
           },
           "type": "single"
          }
         },
         "title": "Lobbyists Run: Value",
         "transform": [
          {
           "filter": {
            "selection": "Theta_Run"
           }
          }
         ],
         "width": 300
        }
       ],
       "resolve": {
        "scale": {
         "y": "shared"
        }
       }
      },
      "image/png": "[encoded data removed]",
      "text/plain": [
       "<VegaLite 3 object>\n",
       "\n",
       "If you see this message, it means the renderer has not been properly enabled\n",
       "for the frontend that you are using. For more information, see\n",
       "https://altair-viz.github.io/user_guide/troubleshooting.html\n"
      ]
     },
     "execution_count": 18,
     "metadata": {},
     "output_type": "execute_result"
    }
   ],
   "source": [
    "slider = alt.binding_range(min=theta_start, max=theta_end, step=theta_spacing)\n",
    "select_theta = alt.selection_single(name=\"Theta_Run\", fields=['Theta_Run'],\n",
    "                                   bind=slider, init={'Theta_Run': theta_start})\n",
    "\n",
    "lv = alt.Chart(lobbyists_merged_agg_data).mark_point().encode(\n",
    "    #alt.X('Time', type='ordinal', title=''),\n",
    "    x='Time:O',\n",
    "    y='Total_Value:Q',\n",
    "#     y=('Total_Value:Q', scale=alt.Scale(domain=[2000, 2017])), #scale=alt.Scale(domain=(5,15))),\n",
    "#     y=alt.Y('Total_Value:Q',scale=Scale(domain=(0.0,100))\n",
    "#     color=alt.Color('Value:Q',legend=alt.Legend(values=[15]))  #values=[0.1,10.]))\n",
    "#    color=alt.Color('Value:Q'),\n",
    ").properties(\n",
    "    width=cwidth,\n",
    "    height=cheight,\n",
    "    title=\"Lobbyists Run: Value\"\n",
    ").add_selection(\n",
    "    select_theta\n",
    ").transform_filter(\n",
    "    select_theta)\n",
    "\n",
    "lp = alt.Chart(lobbyists_merged_agg_data).mark_point().encode(\n",
    "    #alt.X('Time', type='ordinal', title=''),\n",
    "    x='Time:O',\n",
    "    y='Total_Prob:Q',\n",
    "#     color=alt.Color('Value:Q',legend=alt.Legend(values=[15]))  #values=[0.1,10.]))\n",
    "#    color=alt.Color('Value:Q'),\n",
    ").properties(\n",
    "    width=cwidth,\n",
    "    height=cheight,\n",
    "    title=\"Lobbyists Run: Probability\"\n",
    ").add_selection(\n",
    "    select_theta\n",
    ").transform_filter(\n",
    "    select_theta)\n",
    "\n",
    "lev = alt.Chart(lobbyists_merged_agg_data).mark_point().encode(\n",
    "    #alt.X('Time', type='ordinal', title=''),\n",
    "    x='Time:O',\n",
    "    y='Total_Expected_Value:Q',\n",
    "#     color=alt.Color('Value:Q',legend=alt.Legend(values=[15]))  #values=[0.1,10.]))\n",
    "#    color=alt.Color('Value:Q'),\n",
    ").properties(\n",
    "    width=cwidth,\n",
    "    height=cheight,\n",
    "    title=\"Lobbyists Run: Expected Value\"\n",
    ").add_selection(\n",
    "    select_theta\n",
    ").transform_filter(\n",
    "    select_theta)\n",
    "\n",
    "# ll = alt.vconcat(v, p, ev)\n",
    "ll = alt.vconcat(\n",
    "    lv,lp,lev,\n",
    ").resolve_scale(\n",
    "    y='shared'\n",
    ")\n",
    "\n",
    "\n",
    "alt.hconcat(\n",
    "    sv, lv,\n",
    ").resolve_scale(\n",
    "    y='shared'\n",
    ")\n",
    "\n",
    "# ss | ll\n",
    "# alt.hconcat(\n",
    "#     ss,\n",
    "#     ll\n",
    "# ).resolve_scale(\n",
    "#     y='shared'\n",
    "# )"
   ]
  },
  {
   "cell_type": "code",
   "execution_count": 19,
   "metadata": {
    "collapsed": false,
    "jupyter": {
     "outputs_hidden": false
    }
   },
   "outputs": [
    {
     "data": {
      "application/vnd.vegalite.v3+json": {
       "$schema": "https://vega.github.io/schema/vega-lite/v3.2.1.json",
       "config": {
        "mark": {
         "tooltip": null
        },
        "view": {
         "height": 300,
         "width": 400
        }
       },
       "hconcat": [
        {
         "resolve": {
          "scale": {
           "y": "shared"
          }
         },
         "vconcat": [
          {
           "data": {
            "format": {
             "type": "json"
            },
            "url": "altair-data-bc0a412d157426e2b3c2815ce85cabb6.json"
           },
           "encoding": {
            "x": {
             "field": "Time",
             "type": "ordinal"
            },
            "y": {
             "field": "Total_Value",
             "type": "quantitative"
            }
           },
           "height": 100,
           "mark": "point",
           "selection": {
            "Theta_Run": {
             "bind": {
              "input": "range",
              "max": 1,
              "min": 0,
              "step": 0.1
             },
             "fields": [
              "Theta_Run"
             ],
             "init": {
              "Theta_Run": 0
             },
             "type": "single"
            }
           },
           "title": "Scientists Run: Value",
           "transform": [
            {
             "filter": {
              "selection": "Theta_Run"
             }
            }
           ],
           "width": 300
          },
          {
           "data": {
            "format": {
             "type": "json"
            },
            "url": "altair-data-bc0a412d157426e2b3c2815ce85cabb6.json"
           },
           "encoding": {
            "x": {
             "field": "Time",
             "type": "ordinal"
            },
            "y": {
             "field": "Total_Prob",
             "type": "quantitative"
            }
           },
           "height": 100,
           "mark": "point",
           "selection": {
            "Theta_Run": {
             "bind": {
              "input": "range",
              "max": 1,
              "min": 0,
              "step": 0.1
             },
             "fields": [
              "Theta_Run"
             ],
             "init": {
              "Theta_Run": 0
             },
             "type": "single"
            }
           },
           "title": "Scientists Run: Probability",
           "transform": [
            {
             "filter": {
              "selection": "Theta_Run"
             }
            }
           ],
           "width": 300
          },
          {
           "data": {
            "format": {
             "type": "json"
            },
            "url": "altair-data-bc0a412d157426e2b3c2815ce85cabb6.json"
           },
           "encoding": {
            "x": {
             "field": "Time",
             "type": "ordinal"
            },
            "y": {
             "field": "Total_Expected_Value",
             "type": "quantitative"
            }
           },
           "height": 100,
           "mark": "point",
           "selection": {
            "Theta_Run": {
             "bind": {
              "input": "range",
              "max": 1,
              "min": 0,
              "step": 0.1
             },
             "fields": [
              "Theta_Run"
             ],
             "init": {
              "Theta_Run": 0
             },
             "type": "single"
            }
           },
           "title": "Scientists Run: Expected Value",
           "transform": [
            {
             "filter": {
              "selection": "Theta_Run"
             }
            }
           ],
           "width": 300
          }
         ]
        },
        {
         "resolve": {
          "scale": {
           "y": "shared"
          }
         },
         "vconcat": [
          {
           "data": {
            "format": {
             "type": "json"
            },
            "url": "altair-data-bac8912ec947d34366834eb8f6611967.json"
           },
           "encoding": {
            "x": {
             "field": "Time",
             "type": "ordinal"
            },
            "y": {
             "field": "Total_Value",
             "type": "quantitative"
            }
           },
           "height": 100,
           "mark": "point",
           "selection": {
            "Theta_Run": {
             "bind": {
              "input": "range",
              "max": 1,
              "min": 0,
              "step": 0.1
             },
             "fields": [
              "Theta_Run"
             ],
             "init": {
              "Theta_Run": 0
             },
             "type": "single"
            }
           },
           "title": "Lobbyists Run: Value",
           "transform": [
            {
             "filter": {
              "selection": "Theta_Run"
             }
            }
           ],
           "width": 300
          },
          {
           "data": {
            "format": {
             "type": "json"
            },
            "url": "altair-data-bac8912ec947d34366834eb8f6611967.json"
           },
           "encoding": {
            "x": {
             "field": "Time",
             "type": "ordinal"
            },
            "y": {
             "field": "Total_Prob",
             "type": "quantitative"
            }
           },
           "height": 100,
           "mark": "point",
           "selection": {
            "Theta_Run": {
             "bind": {
              "input": "range",
              "max": 1,
              "min": 0,
              "step": 0.1
             },
             "fields": [
              "Theta_Run"
             ],
             "init": {
              "Theta_Run": 0
             },
             "type": "single"
            }
           },
           "title": "Lobbyists Run: Probability",
           "transform": [
            {
             "filter": {
              "selection": "Theta_Run"
             }
            }
           ],
           "width": 300
          },
          {
           "data": {
            "format": {
             "type": "json"
            },
            "url": "altair-data-bac8912ec947d34366834eb8f6611967.json"
           },
           "encoding": {
            "x": {
             "field": "Time",
             "type": "ordinal"
            },
            "y": {
             "field": "Total_Expected_Value",
             "type": "quantitative"
            }
           },
           "height": 100,
           "mark": "point",
           "selection": {
            "Theta_Run": {
             "bind": {
              "input": "range",
              "max": 1,
              "min": 0,
              "step": 0.1
             },
             "fields": [
              "Theta_Run"
             ],
             "init": {
              "Theta_Run": 0
             },
             "type": "single"
            }
           },
           "title": "Lobbyists Run: Expected Value",
           "transform": [
            {
             "filter": {
              "selection": "Theta_Run"
             }
            }
           ],
           "width": 300
          }
         ]
        }
       ]
      },
      "image/png": "[encoded data removed]",
      "text/plain": [
       "<VegaLite 3 object>\n",
       "\n",
       "If you see this message, it means the renderer has not been properly enabled\n",
       "for the frontend that you are using. For more information, see\n",
       "https://altair-viz.github.io/user_guide/troubleshooting.html\n"
      ]
     },
     "execution_count": 19,
     "metadata": {},
     "output_type": "execute_result"
    }
   ],
   "source": [
    "ss | ll"
   ]
  },
  {
   "cell_type": "code",
   "execution_count": null,
   "metadata": {
    "collapsed": true,
    "jupyter": {
     "outputs_hidden": true
    }
   },
   "outputs": [],
   "source": []
  },
  {
   "cell_type": "code",
   "execution_count": 20,
   "metadata": {
    "collapsed": false,
    "jupyter": {
     "outputs_hidden": false
    }
   },
   "outputs": [
    {
     "data": {
      "application/vnd.vegalite.v3+json": {
       "$schema": "https://vega.github.io/schema/vega-lite/v3.2.1.json",
       "config": {
        "mark": {
         "tooltip": null
        },
        "view": {
         "height": 300,
         "width": 400
        }
       },
       "data": {
        "format": {
         "type": "json"
        },
        "url": "altair-data-5aad071ac67c5f6eb85f676254a5a650.json"
       },
       "encoding": {
        "color": {
         "field": "Value",
         "type": "quantitative"
        },
        "row": {
         "field": "Theta",
         "type": "ordinal"
        },
        "x": {
         "field": "Time",
         "type": "ordinal"
        },
        "y": {
         "field": "Agent",
         "type": "ordinal"
        }
       },
       "height": 100,
       "mark": "rect",
       "title": "Value",
       "width": 500
      },
      "image/png": "[encoded data removed]",
      "text/plain": [
       "<VegaLite 3 object>\n",
       "\n",
       "If you see this message, it means the renderer has not been properly enabled\n",
       "for the frontend that you are using. For more information, see\n",
       "https://altair-viz.github.io/user_guide/troubleshooting.html\n"
      ]
     },
     "execution_count": 20,
     "metadata": {},
     "output_type": "execute_result"
    }
   ],
   "source": [
    "alt.data_transformers.enable('json')\n",
    "alt.Chart(lobbyists_merged_agent_data).mark_rect().encode(\n",
    "    #alt.X('Time', type='ordinal', title=''),\n",
    "    x='Time:O',\n",
    "    y='Agent:O',\n",
    "    color='Value:Q',\n",
    "    row = 'Theta:O'\n",
    "    #color=alt.Color('Value:Q',legend=alt.Legend(title=\"Value\"))\n",
    ").properties(\n",
    "    width=500,\n",
    "    height=100,\n",
    "    title='Value'\n",
    ")"
   ]
  },
  {
   "cell_type": "code",
   "execution_count": 21,
   "metadata": {},
   "outputs": [],
   "source": [
    "# alt.renderers.enable(embed_options = {'theme':'none'})\n",
    "# val = alt.Chart(m.data).mark_rect().encode(\n",
    "#     #alt.X('Time', type='ordinal', title=''),\n",
    "#     x='Time:O',\n",
    "#     y='Agent:O',\n",
    "#     color='Value:Q',    \n",
    "#     #color=alt.Color('Value:Q',legend=alt.Legend(title=\"Value\"))\n",
    "# ).properties(\n",
    "#     width=500,\n",
    "#     height=100,\n",
    "#     title='Value'\n",
    "# )\n",
    "\n",
    "\n",
    "# prob = alt.Chart(m.data).mark_rect().encode(\n",
    "#     #alt.X('Time', type='ordinal', title=''),\n",
    "#     x='Time:O',\n",
    "#     y='Agent:O',\n",
    "#     color='Prob:Q',\n",
    "# ).properties(\n",
    "#     width=500,\n",
    "#     height=100,\n",
    "#     title='Probability'    \n",
    "# )\n",
    "\n",
    "# val_msg = alt.Chart(m.data).mark_rect().encode(\n",
    "#     #alt.X('Time', type='ordinal', title=''),\n",
    "#     x='Time:O',\n",
    "#     y='Agent:O',\n",
    "#     color='Value_Msg:Q',\n",
    "# ).properties(\n",
    "#     width=500,\n",
    "#     height=100,\n",
    "#     title='Value Message'     \n",
    "# )\n",
    "\n",
    "# prob_msg = alt.Chart(m.data).mark_rect().encode(\n",
    "#     x='Time:O',\n",
    "#     y='Agent:O',\n",
    "#     color='Prob_Msg:Q',\n",
    "# ).properties(\n",
    "#     width=500,\n",
    "#     height=100,\n",
    "#     title='Probability Message'    \n",
    "# )\n",
    "\n",
    "# alt.vconcat(val, prob, val_msg, prob_msg)\n"
   ]
  },
  {
   "cell_type": "code",
   "execution_count": null,
   "metadata": {
    "collapsed": true,
    "jupyter": {
     "outputs_hidden": true
    }
   },
   "outputs": [],
   "source": []
  },
  {
   "cell_type": "code",
   "execution_count": null,
   "metadata": {},
   "outputs": [],
   "source": []
  }
 ],
 "metadata": {
  "anaconda-cloud": {},
  "kernelspec": {
   "display_name": "Python 3",
   "language": "python",
   "name": "python3"
  },
  "language_info": {
   "codemirror_mode": {
    "name": "ipython",
    "version": 3
   },
   "file_extension": ".py",
   "mimetype": "text/x-python",
   "name": "python",
   "nbconvert_exporter": "python",
   "pygments_lexer": "ipython3",
   "version": "3.7.3"
  }
 },
 "nbformat": 4,
 "nbformat_minor": 4
}
